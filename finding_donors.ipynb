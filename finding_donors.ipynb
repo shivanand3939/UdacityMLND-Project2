{
 "metadata": {
  "kernelspec": {
   "display_name": "Python 2",
   "language": "python",
   "name": "python2"
  },
  "language_info": {
   "codemirror_mode": {
    "name": "ipython",
    "version": 2
   },
   "file_extension": ".py",
   "mimetype": "text/x-python",
   "name": "python",
   "nbconvert_exporter": "python",
   "pygments_lexer": "ipython2",
   "version": "2.7.12"
  },
  "name": "",
  "signature": "sha256:fcb6040193f63aaf5951604d08a118a5bf980275067ecd5aeef8fdc519c252fe"
 },
 "nbformat": 3,
 "nbformat_minor": 0,
 "worksheets": [
  {
   "cells": [
    {
     "cell_type": "markdown",
     "metadata": {},
     "source": [
      "# Machine Learning Engineer Nanodegree\n",
      "## Supervised Learning\n",
      "## Project: Finding Donors for *CharityML*"
     ]
    },
    {
     "cell_type": "markdown",
     "metadata": {},
     "source": [
      "Welcome to the second project of the Machine Learning Engineer Nanodegree! In this notebook, some template code has already been provided for you, and it will be your job to implement the additional functionality necessary to successfully complete this project. Sections that begin with **'Implementation'** in the header indicate that the following block of code will require additional functionality which you must provide. Instructions will be provided for each section and the specifics of the implementation are marked in the code block with a `'TODO'` statement. Please be sure to read the instructions carefully!\n",
      "\n",
      "In addition to implementing code, there will be questions that you must answer which relate to the project and your implementation. Each section where you will answer a question is preceded by a **'Question X'** header. Carefully read each question and provide thorough answers in the following text boxes that begin with **'Answer:'**. Your project submission will be evaluated based on your answers to each of the questions and the implementation you provide.  \n",
      "\n",
      ">**Note:** Code and Markdown cells can be executed using the **Shift + Enter** keyboard shortcut. In addition, Markdown cells can be edited by typically double-clicking the cell to enter edit mode."
     ]
    },
    {
     "cell_type": "markdown",
     "metadata": {},
     "source": [
      "## Getting Started\n",
      "\n",
      "In this project, you will employ several supervised algorithms of your choice to accurately model individuals' income using data collected from the 1994 U.S. Census. You will then choose the best candidate algorithm from preliminary results and further optimize this algorithm to best model the data. Your goal with this implementation is to construct a model that accurately predicts whether an individual makes more than $50,000. This sort of task can arise in a non-profit setting, where organizations survive on donations.  Understanding an individual's income can help a non-profit better understand how large of a donation to request, or whether or not they should reach out to begin with.  While it can be difficult to determine an individual's general income bracket directly from public sources, we can (as we will see) infer this value from other publically available features. \n",
      "\n",
      "The dataset for this project originates from the [UCI Machine Learning Repository](https://archive.ics.uci.edu/ml/datasets/Census+Income). The datset was donated by Ron Kohavi and Barry Becker, after being published in the article _\"Scaling Up the Accuracy of Naive-Bayes Classifiers: A Decision-Tree Hybrid\"_. You can find the article by Ron Kohavi [online](https://www.aaai.org/Papers/KDD/1996/KDD96-033.pdf). The data we investigate here consists of small changes to the original dataset, such as removing the `'fnlwgt'` feature and records with missing or ill-formatted entries."
     ]
    },
    {
     "cell_type": "markdown",
     "metadata": {},
     "source": [
      "----\n",
      "## Exploring the Data\n",
      "Run the code cell below to load necessary Python libraries and load the census data. Note that the last column from this dataset, `'income'`, will be our target label (whether an individual makes more than, or at most, $50,000 annually). All other columns are features about each individual in the census database."
     ]
    },
    {
     "cell_type": "code",
     "collapsed": false,
     "input": [
      "# Import libraries necessary for this project\n",
      "import numpy as np\n",
      "import pandas as pd\n",
      "from time import time\n",
      "from IPython.display import display # Allows the use of display() for DataFrames\n",
      "\n",
      "# Import supplementary visualization code visuals.py\n",
      "import visuals as vs\n",
      "\n",
      "# Pretty display for notebooks\n",
      "%matplotlib inline\n",
      "\n",
      "# Load the Census dataset\n",
      "data = pd.read_csv(\"census.csv\")\n",
      "\n",
      "# Success - Display the first record\n",
      "display(data.head(n=1))"
     ],
     "language": "python",
     "metadata": {},
     "outputs": [
      {
       "html": [
        "<div style=\"max-width:1500px;overflow:auto;\">\n",
        "<table border=\"1\" class=\"dataframe\">\n",
        "  <thead>\n",
        "    <tr style=\"text-align: right;\">\n",
        "      <th></th>\n",
        "      <th>age</th>\n",
        "      <th>workclass</th>\n",
        "      <th>education_level</th>\n",
        "      <th>education-num</th>\n",
        "      <th>marital-status</th>\n",
        "      <th>occupation</th>\n",
        "      <th>relationship</th>\n",
        "      <th>race</th>\n",
        "      <th>sex</th>\n",
        "      <th>capital-gain</th>\n",
        "      <th>capital-loss</th>\n",
        "      <th>hours-per-week</th>\n",
        "      <th>native-country</th>\n",
        "      <th>income</th>\n",
        "    </tr>\n",
        "  </thead>\n",
        "  <tbody>\n",
        "    <tr>\n",
        "      <th>0</th>\n",
        "      <td>39</td>\n",
        "      <td>State-gov</td>\n",
        "      <td>Bachelors</td>\n",
        "      <td>13.0</td>\n",
        "      <td>Never-married</td>\n",
        "      <td>Adm-clerical</td>\n",
        "      <td>Not-in-family</td>\n",
        "      <td>White</td>\n",
        "      <td>Male</td>\n",
        "      <td>2174.0</td>\n",
        "      <td>0.0</td>\n",
        "      <td>40.0</td>\n",
        "      <td>United-States</td>\n",
        "      <td>&lt;=50K</td>\n",
        "    </tr>\n",
        "  </tbody>\n",
        "</table>\n",
        "</div>"
       ],
       "metadata": {},
       "output_type": "display_data",
       "text": [
        "   age   workclass education_level  education-num  marital-status  \\\n",
        "0   39   State-gov       Bachelors           13.0   Never-married   \n",
        "\n",
        "      occupation    relationship    race    sex  capital-gain  capital-loss  \\\n",
        "0   Adm-clerical   Not-in-family   White   Male        2174.0           0.0   \n",
        "\n",
        "   hours-per-week  native-country income  \n",
        "0            40.0   United-States  <=50K  "
       ]
      }
     ],
     "prompt_number": 27
    },
    {
     "cell_type": "markdown",
     "metadata": {},
     "source": [
      "### Implementation: Data Exploration\n",
      "A cursory investigation of the dataset will determine how many individuals fit into either group, and will tell us about the percentage of these individuals making more than \\$50,000. In the code cell below, you will need to compute the following:\n",
      "- The total number of records, `'n_records'`\n",
      "- The number of individuals making more than \\$50,000 annually, `'n_greater_50k'`.\n",
      "- The number of individuals making at most \\$50,000 annually, `'n_at_most_50k'`.\n",
      "- The percentage of individuals making more than \\$50,000 annually, `'greater_percent'`.\n",
      "\n",
      "**Hint:** You may need to look at the table above to understand how the `'income'` entries are formatted. "
     ]
    },
    {
     "cell_type": "code",
     "collapsed": false,
     "input": [
      "# TODO: Total number of records\n",
      "n_records = data.shape[0]\n",
      "\n",
      "print set(data['income'])\n",
      "# TODO: Number of records where individual's income is more than $50,000\n",
      "n_greater_50k = data[data['income'] == '>50K'].shape[0]\n",
      "\n",
      "# TODO: Number of records where individual's income is at most $50,000\n",
      "n_at_most_50k = data[data['income'] == '<=50K'].shape[0]\n",
      "\n",
      "# TODO: Percentage of individuals whose income is more than $50,000\n",
      "greater_percent = float(n_greater_50k)/n_at_most_50k * 100\n",
      "\n",
      "# Print the results\n",
      "print \"Total number of records: {}\".format(n_records)\n",
      "print \"Individuals making more than $50,000: {}\".format(n_greater_50k)\n",
      "print \"Individuals making at most $50,000: {}\".format(n_at_most_50k)\n",
      "print \"Percentage of individuals making more than $50,000: {:.2f}%\".format(greater_percent)"
     ],
     "language": "python",
     "metadata": {},
     "outputs": [
      {
       "output_type": "stream",
       "stream": "stdout",
       "text": [
        "set(['<=50K', '>50K'])\n",
        "Total number of records: 45222\n",
        "Individuals making more than $50,000: 11208\n",
        "Individuals making at most $50,000: 34014\n",
        "Percentage of individuals making more than $50,000: 32.95%\n"
       ]
      }
     ],
     "prompt_number": 28
    },
    {
     "cell_type": "markdown",
     "metadata": {},
     "source": [
      "----\n",
      "## Preparing the Data\n",
      "Before data can be used as input for machine learning algorithms, it often must be cleaned, formatted, and restructured \u2014 this is typically known as **preprocessing**. Fortunately, for this dataset, there are no invalid or missing entries we must deal with, however, there are some qualities about certain features that must be adjusted. This preprocessing can help tremendously with the outcome and predictive power of nearly all learning algorithms."
     ]
    },
    {
     "cell_type": "markdown",
     "metadata": {},
     "source": [
      "### Transforming Skewed Continuous Features\n",
      "A dataset may sometimes contain at least one feature whose values tend to lie near a single number, but will also have a non-trivial number of vastly larger or smaller values than that single number.  Algorithms can be sensitive to such distributions of values and can underperform if the range is not properly normalized. With the census dataset two features fit this description: '`capital-gain'` and `'capital-loss'`. \n",
      "\n",
      "Run the code cell below to plot a histogram of these two features. Note the range of the values present and how they are distributed."
     ]
    },
    {
     "cell_type": "code",
     "collapsed": false,
     "input": [
      "# Split the data into features and target label\n",
      "income_raw = data['income']\n",
      "features_raw = data.drop('income', axis = 1)\n",
      "\n",
      "# Visualize skewed continuous features of original data\n",
      "vs.distribution(data)"
     ],
     "language": "python",
     "metadata": {},
     "outputs": [
      {
       "metadata": {},
       "output_type": "display_data",
       "png": "[encoded data removed]",
       "text": [
        "<matplotlib.figure.Figure at 0x7fe45a8abd90>"
       ]
      }
     ],
     "prompt_number": 29
    },
    {
     "cell_type": "markdown",
     "metadata": {},
     "source": [
      "For highly-skewed feature distributions such as `'capital-gain'` and `'capital-loss'`, it is common practice to apply a <a href=\"https://en.wikipedia.org/wiki/Data_transformation_(statistics)\">logarithmic transformation</a> on the data so that the very large and very small values do not negatively affect the performance of a learning algorithm. Using a logarithmic transformation significantly reduces the range of values caused by outliers. Care must be taken when applying this transformation however: The logarithm of `0` is undefined, so we must translate the values by a small amount above `0` to apply the the logarithm successfully.\n",
      "\n",
      "Run the code cell below to perform a transformation on the data and visualize the results. Again, note the range of values and how they are distributed. "
     ]
    },
    {
     "cell_type": "code",
     "collapsed": false,
     "input": [
      "# Log-transform the skewed features\n",
      "skewed = ['capital-gain', 'capital-loss']\n",
      "features_raw[skewed] = data[skewed].apply(lambda x: np.log(x + 1))\n",
      "\n",
      "# Visualize the new log distributions\n",
      "vs.distribution(features_raw, transformed = True)"
     ],
     "language": "python",
     "metadata": {},
     "outputs": [
      {
       "metadata": {},
       "output_type": "display_data",
       "png": "[encoded data removed]",
       "text": [
        "<matplotlib.figure.Figure at 0x7fe45ac63410>"
       ]
      }
     ],
     "prompt_number": 30
    },
    {
     "cell_type": "markdown",
     "metadata": {},
     "source": [
      "### Normalizing Numerical Features\n",
      "In addition to performing transformations on features that are highly skewed, it is often good practice to perform some type of scaling on numerical features. Applying a scaling to the data does not change the shape of each feature's distribution (such as `'capital-gain'` or `'capital-loss'` above); however, normalization ensures that each feature is treated equally when applying supervised learners. Note that once scaling is applied, observing the data in its raw form will no longer have the same original meaning, as exampled below.\n",
      "\n",
      "Run the code cell below to normalize each numerical feature. We will use [`sklearn.preprocessing.MinMaxScaler`](http://scikit-learn.org/stable/modules/generated/sklearn.preprocessing.MinMaxScaler.html) for this."
     ]
    },
    {
     "cell_type": "code",
     "collapsed": false,
     "input": [
      "# Import sklearn.preprocessing.StandardScaler\n",
      "from sklearn.preprocessing import MinMaxScaler\n",
      "\n",
      "# Initialize a scaler, then apply it to the features\n",
      "scaler = MinMaxScaler()\n",
      "numerical = ['age', 'education-num', 'capital-gain', 'capital-loss', 'hours-per-week']\n",
      "features_raw[numerical] = scaler.fit_transform(data[numerical])\n",
      "\n",
      "# Show an example of a record with scaling applied\n",
      "display(features_raw.head(n = 1))"
     ],
     "language": "python",
     "metadata": {},
     "outputs": [
      {
       "html": [
        "<div style=\"max-width:1500px;overflow:auto;\">\n",
        "<table border=\"1\" class=\"dataframe\">\n",
        "  <thead>\n",
        "    <tr style=\"text-align: right;\">\n",
        "      <th></th>\n",
        "      <th>age</th>\n",
        "      <th>workclass</th>\n",
        "      <th>education_level</th>\n",
        "      <th>education-num</th>\n",
        "      <th>marital-status</th>\n",
        "      <th>occupation</th>\n",
        "      <th>relationship</th>\n",
        "      <th>race</th>\n",
        "      <th>sex</th>\n",
        "      <th>capital-gain</th>\n",
        "      <th>capital-loss</th>\n",
        "      <th>hours-per-week</th>\n",
        "      <th>native-country</th>\n",
        "    </tr>\n",
        "  </thead>\n",
        "  <tbody>\n",
        "    <tr>\n",
        "      <th>0</th>\n",
        "      <td>0.30137</td>\n",
        "      <td>State-gov</td>\n",
        "      <td>Bachelors</td>\n",
        "      <td>0.8</td>\n",
        "      <td>Never-married</td>\n",
        "      <td>Adm-clerical</td>\n",
        "      <td>Not-in-family</td>\n",
        "      <td>White</td>\n",
        "      <td>Male</td>\n",
        "      <td>0.02174</td>\n",
        "      <td>0.0</td>\n",
        "      <td>0.397959</td>\n",
        "      <td>United-States</td>\n",
        "    </tr>\n",
        "  </tbody>\n",
        "</table>\n",
        "</div>"
       ],
       "metadata": {},
       "output_type": "display_data",
       "text": [
        "       age   workclass education_level  education-num  marital-status  \\\n",
        "0  0.30137   State-gov       Bachelors            0.8   Never-married   \n",
        "\n",
        "      occupation    relationship    race    sex  capital-gain  capital-loss  \\\n",
        "0   Adm-clerical   Not-in-family   White   Male       0.02174           0.0   \n",
        "\n",
        "   hours-per-week  native-country  \n",
        "0        0.397959   United-States  "
       ]
      }
     ],
     "prompt_number": 31
    },
    {
     "cell_type": "markdown",
     "metadata": {},
     "source": [
      "### Implementation: Data Preprocessing\n",
      "\n",
      "From the table in **Exploring the Data** above, we can see there are several features for each record that are non-numeric. Typically, learning algorithms expect input to be numeric, which requires that non-numeric features (called *categorical variables*) be converted. One popular way to convert categorical variables is by using the **one-hot encoding** scheme. One-hot encoding creates a _\"dummy\"_ variable for each possible category of each non-numeric feature. For example, assume `someFeature` has three possible entries: `A`, `B`, or `C`. We then encode this feature into `someFeature_A`, `someFeature_B` and `someFeature_C`.\n",
      "\n",
      "|   | someFeature |                    | someFeature_A | someFeature_B | someFeature_C |\n",
      "| :-: | :-: |                            | :-: | :-: | :-: |\n",
      "| 0 |  B  |  | 0 | 1 | 0 |\n",
      "| 1 |  C  | ----> one-hot encode ----> | 0 | 0 | 1 |\n",
      "| 2 |  A  |  | 1 | 0 | 0 |\n",
      "\n",
      "Additionally, as with the non-numeric features, we need to convert the non-numeric target label, `'income'` to numerical values for the learning algorithm to work. Since there are only two possible categories for this label (\"<=50K\" and \">50K\"), we can avoid using one-hot encoding and simply encode these two categories as `0` and `1`, respectively. In code cell below, you will need to implement the following:\n",
      " - Use [`pandas.get_dummies()`](http://pandas.pydata.org/pandas-docs/stable/generated/pandas.get_dummies.html?highlight=get_dummies#pandas.get_dummies) to perform one-hot encoding on the `'features_raw'` data.\n",
      " - Convert the target label `'income_raw'` to numerical entries.\n",
      "   - Set records with \"<=50K\" to `0` and records with \">50K\" to `1`."
     ]
    },
    {
     "cell_type": "code",
     "collapsed": false,
     "input": [
      "# TODO: One-hot encode the 'features_raw' data using pandas.get_dummies()\n",
      "features = pd.get_dummies(features_raw)\n",
      "\n",
      "# TODO: Encode the 'income_raw' data to numerical values\n",
      "income = income_raw.copy()\n",
      "income[income ==  \"<=50K\"] = 0\n",
      "income[income ==  \">50K\"] = 1\n",
      "\n",
      "# Print the number of features after one-hot encoding\n",
      "encoded = list(features.columns)\n",
      "print \"{} total features after one-hot encoding.\".format(len(encoded))\n",
      "\n",
      "# Uncomment the following line to see the encoded feature name\n",
      "#print encoded"
     ],
     "language": "python",
     "metadata": {
      "scrolled": true
     },
     "outputs": [
      {
       "output_type": "stream",
       "stream": "stdout",
       "text": [
        "103 total features after one-hot encoding.\n"
       ]
      }
     ],
     "prompt_number": 33
    },
    {
     "cell_type": "markdown",
     "metadata": {},
     "source": [
      "### Shuffle and Split Data\n",
      "Now all _categorical variables_ have been converted into numerical features, and all numerical features have been normalized. As always, we will now split the data (both features and their labels) into training and test sets. 80% of the data will be used for training and 20% for testing.\n",
      "\n",
      "Run the code cell below to perform this split."
     ]
    },
    {
     "cell_type": "code",
     "collapsed": false,
     "input": [
      "# Import train_test_split\n",
      "from sklearn.cross_validation import train_test_split\n",
      "\n",
      "# Split the 'features' and 'income' data into training and testing sets\n",
      "X_train, X_test, y_train, y_test = train_test_split(features, income, test_size = 0.2, random_state = 0)\n",
      "\n",
      "# Show the results of the split\n",
      "print \"Training set has {} samples.\".format(X_train.shape[0])\n",
      "print \"Testing set has {} samples.\".format(X_test.shape[0])"
     ],
     "language": "python",
     "metadata": {},
     "outputs": [
      {
       "output_type": "stream",
       "stream": "stdout",
       "text": [
        "Training set has 36177 samples.\n",
        "Testing set has 9045 samples.\n"
       ]
      }
     ],
     "prompt_number": 34
    },
    {
     "cell_type": "markdown",
     "metadata": {},
     "source": [
      "----\n",
      "## Evaluating Model Performance\n",
      "In this section, we will investigate four different algorithms, and determine which is best at modeling the data. Three of these algorithms will be supervised learners of your choice, and the fourth algorithm is known as a *naive predictor*."
     ]
    },
    {
     "cell_type": "markdown",
     "metadata": {},
     "source": [
      "### Metrics and the Naive Predictor\n",
      "*CharityML*, equipped with their research, knows individuals that make more than \\$50,000 are most likely to donate to their charity. Because of this, *CharityML* is particularly interested in predicting who makes more than \\$50,000 accurately. It would seem that using **accuracy** as a metric for evaluating a particular model's performace would be appropriate. Additionally, identifying someone that *does not* make more than \\$50,000 as someone who does would be detrimental to *CharityML*, since they are looking to find individuals willing to donate. Therefore, a model's ability to precisely predict those that make more than \\$50,000 is *more important* than the model's ability to **recall** those individuals. We can use **F-beta score** as a metric that considers both precision and recall:\n",
      "\n",
      "$$ F_{\\beta} = (1 + \\beta^2) \\cdot \\frac{precision \\cdot recall}{\\left( \\beta^2 \\cdot precision \\right) + recall} $$\n",
      "\n",
      "In particular, when $\\beta = 0.5$, more emphasis is placed on precision. This is called the **F$_{0.5}$ score** (or F-score for simplicity).\n",
      "\n",
      "Looking at the distribution of classes (those who make at most \\$50,000, and those who make more), it's clear most individuals do not make more than \\$50,000. This can greatly affect **accuracy**, since we could simply say *\"this person does not make more than \\$50,000\"* and generally be right, without ever looking at the data! Making such a statement would be called **naive**, since we have not considered any information to substantiate the claim. It is always important to consider the *naive prediction* for your data, to help establish a benchmark for whether a model is performing well. That been said, using that prediction would be pointless: If we predicted all people made less than \\$50,000, *CharityML* would identify no one as donors. "
     ]
    },
    {
     "cell_type": "markdown",
     "metadata": {},
     "source": [
      "### Question 1 - Naive Predictor Performace\n",
      "*If we chose a model that always predicted an individual made more than \\$50,000, what would that model's accuracy and F-score be on this dataset?*  \n",
      "**Note:** You must use the code cell below and assign your results to `'accuracy'` and `'fscore'` to be used later."
     ]
    },
    {
     "cell_type": "code",
     "collapsed": false,
     "input": [
      "all_greater_50 = (np.ones((len(income),), dtype=np.int))\n",
      "\n",
      "# TODO: Calculate accuracy\n",
      "from sklearn.metrics import accuracy_score\n",
      "accuracy = accuracy_score(income.values.astype(int), all_greater_50)\n",
      "\n",
      "# TODO: Calculate F-score using the formula above for beta = 0.5\n",
      "from sklearn.metrics import fbeta_score\n",
      "fscore = fbeta_score(all_greater_50, income.values.astype(int), beta=0.5)\n",
      "\n",
      "# Print the results \n",
      "print \"Naive Predictor: [Accuracy score: {:.4f}, F-score: {:.4f}]\".format(accuracy, fscore)"
     ],
     "language": "python",
     "metadata": {},
     "outputs": [
      {
       "output_type": "stream",
       "stream": "stdout",
       "text": [
        "Naive Predictor: [Accuracy score: 0.2479, F-score: 0.6223]\n"
       ]
      }
     ],
     "prompt_number": 81
    },
    {
     "cell_type": "markdown",
     "metadata": {},
     "source": [
      "###  Supervised Learning Models\n",
      "**The following supervised learning models are currently available in** [`scikit-learn`](http://scikit-learn.org/stable/supervised_learning.html) **that you may choose from:**\n",
      "- Gaussian Naive Bayes (GaussianNB)\n",
      "- Decision Trees\n",
      "- Ensemble Methods (Bagging, AdaBoost, Random Forest, Gradient Boosting)\n",
      "- K-Nearest Neighbors (KNeighbors)\n",
      "- Stochastic Gradient Descent Classifier (SGDC)\n",
      "- Support Vector Machines (SVM)\n",
      "- Logistic Regression"
     ]
    },
    {
     "cell_type": "markdown",
     "metadata": {},
     "source": [
      "### Question 2 - Model Application\n",
      "List three of the supervised learning models above that are appropriate for this problem that you will test on the census data. For each model chosen\n",
      "- *Describe one real-world application in industry where the model can be applied.* (You may need to do research for this \u2014 give references!)\n",
      "- *What are the strengths of the model; when does it perform well?*\n",
      "- *What are the weaknesses of the model; when does it perform poorly?*\n",
      "- *What makes this model a good candidate for the problem, given what you know about the data?*"
     ]
    },
    {
     "cell_type": "markdown",
     "metadata": {},
     "source": [
      "**Answer: **\n",
      "I would like to choose the following models \n",
      "1) Gaussian Naive Bayes\n",
      "2) Support Vector Machines\n",
      "3) Ensemble methods: Bagging\n",
      "\n",
      "Our dataset has the following:\n",
      "Numerical Varibles: 'age', 'education-num', 'capital-gain', 'capital-loss', 'hours-per-week'\n",
      "Categorical Variables: workclass, education_level, marital-status, occupation, relationship, race, sex, native-country\n",
      "\n",
      "\n",
      "Below I discuss each of these methods in detail.\n",
      "\n",
      "1) **Gaussian Naive Bayes:**\n",
      "- Real World Application:\n",
      "    - Google uses to mark an email as spam, or not spam ?\n",
      "    - Classify a news article about technology, politics, or sports ?\n",
      "- Strengths: \n",
      "    - Simple and easy to use. \n",
      "    - It has few parameters. It is O(Linear) in the number of parameters.\n",
      "    - Computing the value of parameters with labelled data is easy\n",
      "    - Even if the features are not independent the model still performs well.\n",
      "    - Connects inference and classification. So we need not just limit our analysis to classification but based on the inference between attributes we can explore new patterns \n",
      "    - Handles missing records well\n",
      "    - Emphirically widely succesful.\n",
      "- Weakness\n",
      "    - Can not capture interactions between features. \n",
      "- Why I want to use this model here, apart from the strengths mentioned:\n",
      "    - It is a widely used model and is a good standard for initial analysis\n",
      "    - As we have a lot of categorical variables , 98, than numerical variables, 5, Naive Bayes classifier is good for such a distribution \n",
      "    \n",
      "2) **Support Vector Machines:**\n",
      "- Real World Application:\n",
      "    - Customer Churn Rate in Italian Electricity Industry (https://eprints.soton.ac.uk/367073/)\n",
      "- Strengths: \n",
      "    - It works well when there is a clear boundary between the classes\n",
      "    - Performs non-linear classification/regression in higher dimensions\n",
      "    - Only few datapoints are used as support vectors hence memory efficient.\n",
      "    - effective in cases where the number of dimensions is greater than number of samples.\n",
      "- Weakness\n",
      "    - Takes a lot of training time when the dataset is large\n",
      "    - Performance is poor if dataset has noise or classes overlap\n",
      "    - Parameter tuning is a challenge\n",
      "    - Prone to overfitting\n",
      "- Why I want to use this model here, apart from the strengths mentioned:\n",
      "    - Here Number of dimensions are high \n",
      "    - Dataset size is not very high\n",
      "\n",
      "3) **Ensemble Methods Bagging:**\n",
      "- Real World Application:\n",
      "    - Multi-modal Person Recognition and Speech Recognition applications use several Ensemble methods(https://www.researchgate.net/publication/222425707_Classifier_ensembles_Select_real-world_applications)\n",
      "- Strengths\n",
      "    - Fast and scalable\n",
      "    - It does not overfit in ways we normally expect to overfit. i.e even if the classfier parameters are increased both training and testing error decrease as opposed to an increase in testing error after an optimal point, which is typically associated with a lot of classifiers\n",
      "    - Also performs non-linear classifications\n",
      "    - Need not worry about tuning a lot of params\n",
      "    - They do not expect features to vary linearly \n",
      "    - Handles large datasets and high number of features\n",
      "    - Widely used across all industries\n",
      "- Weakness\n",
      "    - Can be a challenge if there are missing values\n",
      "- Why I want to use this model here, apart from the strengths mentioned:\n",
      "    - it is a fast and a robust model\n",
      "    - it is good when we have many categorical variables"
     ]
    },
    {
     "cell_type": "markdown",
     "metadata": {},
     "source": [
      "### Implementation - Creating a Training and Predicting Pipeline\n",
      "To properly evaluate the performance of each model you've chosen, it's important that you create a training and predicting pipeline that allows you to quickly and effectively train models using various sizes of training data and perform predictions on the testing data. Your implementation here will be used in the following section.\n",
      "In the code block below, you will need to implement the following:\n",
      " - Import `fbeta_score` and `accuracy_score` from [`sklearn.metrics`](http://scikit-learn.org/stable/modules/classes.html#sklearn-metrics-metrics).\n",
      " - Fit the learner to the sampled training data and record the training time.\n",
      " - Perform predictions on the test data `X_test`, and also on the first 300 training points `X_train[:300]`.\n",
      "   - Record the total prediction time.\n",
      " - Calculate the accuracy score for both the training subset and testing set.\n",
      " - Calculate the F-score for both the training subset and testing set.\n",
      "   - Make sure that you set the `beta` parameter!"
     ]
    },
    {
     "cell_type": "code",
     "collapsed": false,
     "input": [
      "# TODO: Import two metrics from sklearn - fbeta_score and accuracy_score\n",
      "from sklearn.metrics import fbeta_score, accuracy_score\n",
      "def train_predict(learner, sample_size, X_train, y_train, X_test, y_test): \n",
      "    '''\n",
      "    inputs:\n",
      "       - learner: the learning algorithm to be trained and predicted on\n",
      "       - sample_size: the size of samples (number) to be drawn from training set\n",
      "       - X_train: features training set\n",
      "       - y_train: income training set\n",
      "       - X_test: features testing set\n",
      "       - y_test: income testing set\n",
      "    '''\n",
      "    \n",
      "    results = {}\n",
      "    \n",
      "    # TODO: Fit the learner to the training data using slicing with 'sample_size'\n",
      "    start = time() # Get start time\n",
      "    X_train_sample = X_train[:sample_size]\n",
      "    y_train_sample = y_train[:sample_size].astype(int)\n",
      "    learner.fit(X_train_sample, y_train_sample)\n",
      "    end = time() # Get end time\n",
      "    \n",
      "    # TODO: Calculate the training time\n",
      "    results['train_time'] = end - start\n",
      "        \n",
      "    # TODO: Get the predictions on the test set,\n",
      "    #       then get predictions on the first 300 training samples\n",
      "    start = time() # Get start time\n",
      "    predictions_test = learner.predict(X_test)\n",
      "    predictions_train = learner.predict(X_train[:300])\n",
      "    end = time() # Get end time\n",
      "    \n",
      "    # TODO: Calculate the total prediction time\n",
      "    results['pred_time'] = end - start\n",
      "            \n",
      "    # TODO: Compute accuracy on the first 300 training samples\n",
      "    results['acc_train'] = accuracy_score(predictions_train, y_train[:300].astype(int))\n",
      "        \n",
      "    # TODO: Compute accuracy on test set\n",
      "    results['acc_test'] = accuracy_score(predictions_test, y_test.astype(int))\n",
      "    \n",
      "    # TODO: Compute F-score on the the first 300 training samples\n",
      "    results['f_train'] = fbeta_score(predictions_train, y_train[:300].astype(int), beta=0.5)\n",
      "        \n",
      "    # TODO: Compute F-score on the test set\n",
      "    results['f_test'] = fbeta_score(predictions_test, y_test.astype(int), beta=0.5)\n",
      "       \n",
      "    # Success\n",
      "    print \"{} trained on {} samples.\".format(learner.__class__.__name__, sample_size)\n",
      "        \n",
      "    # Return the results\n",
      "    return results"
     ],
     "language": "python",
     "metadata": {},
     "outputs": [],
     "prompt_number": 114
    },
    {
     "cell_type": "markdown",
     "metadata": {},
     "source": [
      "### Implementation: Initial Model Evaluation\n",
      "In the code cell, you will need to implement the following:\n",
      "- Import the three supervised learning models you've discussed in the previous section.\n",
      "- Initialize the three models and store them in `'clf_A'`, `'clf_B'`, and `'clf_C'`.\n",
      "  - Use a `'random_state'` for each model you use, if provided.\n",
      "  - **Note:** Use the default settings for each model \u2014 you will tune one specific model in a later section.\n",
      "- Calculate the number of records equal to 1%, 10%, and 100% of the training data.\n",
      "  - Store those values in `'samples_1'`, `'samples_10'`, and `'samples_100'` respectively.\n",
      "\n",
      "**Note:** Depending on which algorithms you chose, the following implementation may take some time to run!"
     ]
    },
    {
     "cell_type": "code",
     "collapsed": false,
     "input": [
      "# TODO: Import the three supervised learning models from sklearn\n",
      "from sklearn.naive_bayes import GaussianNB\n",
      "from sklearn.svm import SVC\n",
      "from sklearn.ensemble import BaggingClassifier\n",
      "# TODO: Initialize the three models\n",
      "clf_A = GaussianNB()\n",
      "clf_B = BaggingClassifier()\n",
      "clf_C =  SVC()\n",
      "\n",
      "# TODO: Calculate the number of samples for 1%, 10%, and 100% of the training data\n",
      "samples_1 = int(len(X_train)/100)\n",
      "samples_10 = int(len(X_train)/10)\n",
      "samples_100 = len(X_train)\n",
      "\n",
      "# Collect results on the learners\n",
      "results = {}\n",
      "for clf in [clf_A, clf_B, clf_C]:\n",
      "    clf_name = clf.__class__.__name__\n",
      "    results[clf_name] = {}\n",
      "    for i, samples in enumerate([samples_1, samples_10, samples_100]):\n",
      "        results[clf_name][i] = \\\n",
      "        train_predict(clf, samples, X_train, y_train, X_test, y_test)\n",
      "\n",
      "# Run metrics visualization for the three supervised learning models chosen\n",
      "vs.evaluate(results, accuracy, fscore)"
     ],
     "language": "python",
     "metadata": {},
     "outputs": [
      {
       "output_type": "stream",
       "stream": "stdout",
       "text": [
        "GaussianNB trained on 361 samples.\n",
        "GaussianNB trained on 3617 samples.\n",
        "GaussianNB trained on 36177 samples."
       ]
      },
      {
       "output_type": "stream",
       "stream": "stdout",
       "text": [
        "\n",
        "BaggingClassifier trained on 361 samples."
       ]
      },
      {
       "output_type": "stream",
       "stream": "stdout",
       "text": [
        "\n",
        "BaggingClassifier trained on 3617 samples."
       ]
      },
      {
       "output_type": "stream",
       "stream": "stdout",
       "text": [
        "\n",
        "BaggingClassifier trained on 36177 samples."
       ]
      },
      {
       "output_type": "stream",
       "stream": "stdout",
       "text": [
        "\n",
        "SVC trained on 361 samples."
       ]
      },
      {
       "output_type": "stream",
       "stream": "stdout",
       "text": [
        "\n",
        "SVC trained on 3617 samples."
       ]
      },
      {
       "output_type": "stream",
       "stream": "stdout",
       "text": [
        "\n",
        "SVC trained on 36177 samples."
       ]
      },
      {
       "output_type": "stream",
       "stream": "stdout",
       "text": [
        "\n"
       ]
      },
      {
       "output_type": "stream",
       "stream": "stderr",
       "text": [
        "/usr/local/lib/python2.7/dist-packages/sklearn/metrics/classification.py:1076: UndefinedMetricWarning: F-score is ill-defined and being set to 0.0 due to no true samples.\n",
        "  'recall', 'true', average, warn_for)\n"
       ]
      },
      {
       "metadata": {},
       "output_type": "display_data",
       "png": "[encoded data removed]",
       "text": [
        "<matplotlib.figure.Figure at 0x7fe45a70d710>"
       ]
      }
     ],
     "prompt_number": 115
    },
    {
     "cell_type": "markdown",
     "metadata": {},
     "source": [
      "----\n",
      "## Improving Results\n",
      "In this final section, you will choose from the three supervised learning models the *best* model to use on the student data. You will then perform a grid search optimization for the model over the entire training set (`X_train` and `y_train`) by tuning at least one parameter to improve upon the untuned model's F-score. "
     ]
    },
    {
     "cell_type": "markdown",
     "metadata": {},
     "source": [
      "### Question 3 - Choosing the Best Model\n",
      "*Based on the evaluation you performed earlier, in one to two paragraphs, explain to *CharityML* which of the three models you believe to be most appropriate for the task of identifying individuals that make more than \\$50,000.*  \n",
      "**Hint:** Your answer should include discussion of the metrics, prediction/training time, and the algorithm's suitability for the data."
     ]
    },
    {
     "cell_type": "markdown",
     "metadata": {},
     "source": [
      "**Answer: **\n",
      "I would like to choose Bagging Ensemble method for the following reasons:\n",
      "\n",
      "**1) Training Times**\n",
      "- SVM has the worst training times so I ruled it out from my analysis. Both Bagging and GaussianNB have good training times\n",
      "\n",
      "**2) Accuracy Scores**\n",
      "- Of all the methods Bagging Ensemble method has the best accuracy scores across all samples size in both training and testing sets. \n",
      "\n",
      "**3) F-scores**\n",
      "- We observe that in training sets Bagging Ensemble method has highest F-score, whereas in the test samples, GaussianNB has slighty better F-score than Bagging Ensemble method. \n",
      "\n",
      "For the purposes of our data, accuracy and F-score are the key factors in deciding the best classification method.\n",
      "\n",
      "As Bagging Ensemble method performed the best in all the above parameters, I choose this method. Also, I am hoping that fine tuning its parameters would further improve its accuracy and F-score.\n"
     ]
    },
    {
     "cell_type": "markdown",
     "metadata": {},
     "source": [
      "### Question 4 - Describing the Model in Layman's Terms\n",
      "*In one to two paragraphs, explain to *CharityML*, in layman's terms, how the final model chosen is supposed to work. Be sure that you are describing the major qualities of the model, such as how the model is trained and how the model makes a prediction. Avoid using advanced mathematical or technical jargon, such as describing equations or discussing the algorithm implementation.*"
     ]
    },
    {
     "cell_type": "markdown",
     "metadata": {},
     "source": [
      "**Answer: Bagging Ensemble Method** \n",
      "Ok, I'll try to explain with an analogy\n",
      "Let's take the example of football team consisting of strikers and defenders (binary classfication problem).\n",
      "Say you are Sir ALex Ferguson, the once coach of Manchester United. You have the knack of fielding best teams from a squad of 15. **But your challenge is make an invincible team where every player performs at his peak.** \n",
      "So for every match you choose the best 11. Since yours is a top team for any given match atleast 6 players play well. \n",
      "After the first match you see that 2 strikers played badly. So you give extra attention to them and teach them the skills to reach their peak performance level. In the next match these 2 strikers play well, but may 1 other striker and a defender played badly. So now you give them more attention. This way after every match you idenify the players who played badly and focus on them more. This way over the course of tournament, every player knows their role and play accordingly and eventually they play at their peaks know their roles and become invincible team!!\n",
      "\n",
      "Now coming back to the problem set, everytime you choose a weak learner hypothesis function(fielding a new 11), i.e error rate < 50% (atleast 6 players play well), and give more weightage to points that were missclassified(more attention to players who played badly).\n",
      "Next we choose a new weak learner function(new match) in such a way these points will be classified correctly(players who did not perfomr well will play well now given your extra attention), they need to as these points carry more weight and error rate must be < 50%. Now some new points may be misclassified(other players might not have played well). Again we repeat the earlier process and at the end club all the weak learners that we have used untill now, which forms our decision boundary(at a given point league standing is the culmination of all matches played and see how much skills players have learnt). If our model does well on this decision boundary we stop else we repeat the process.( has your team achieved invincibilty and peak player performace levels)\n",
      "\n"
     ]
    },
    {
     "cell_type": "markdown",
     "metadata": {},
     "source": [
      "### Implementation: Model Tuning\n",
      "Fine tune the chosen model. Use grid search (`GridSearchCV`) with at least one important parameter tuned with at least 3 different values. You will need to use the entire training set for this. In the code cell below, you will need to implement the following:\n",
      "- Import [`sklearn.grid_search.GridSearchCV`](http://scikit-learn.org/0.17/modules/generated/sklearn.grid_search.GridSearchCV.html) and [`sklearn.metrics.make_scorer`](http://scikit-learn.org/stable/modules/generated/sklearn.metrics.make_scorer.html).\n",
      "- Initialize the classifier you've chosen and store it in `clf`.\n",
      " - Set a `random_state` if one is available to the same state you set before.\n",
      "- Create a dictionary of parameters you wish to tune for the chosen model.\n",
      " - Example: `parameters = {'parameter' : [list of values]}`.\n",
      " - **Note:** Avoid tuning the `max_features` parameter of your learner if that parameter is available!\n",
      "- Use `make_scorer` to create an `fbeta_score` scoring object (with $\\beta = 0.5$).\n",
      "- Perform grid search on the classifier `clf` using the `'scorer'`, and store it in `grid_obj`.\n",
      "- Fit the grid search object to the training data (`X_train`, `y_train`), and store it in `grid_fit`.\n",
      "\n",
      "**Note:** Depending on the algorithm chosen and the parameter list, the following implementation may take some time to run!"
     ]
    },
    {
     "cell_type": "code",
     "collapsed": false,
     "input": [
      "# TODO: Import 'GridSearchCV', 'make_scorer', and any other necessary libraries\n",
      "from sklearn.grid_search import GridSearchCV \n",
      "from sklearn.metrics import make_scorer\n",
      "\n",
      "# TODO: Initialize the classifier\n",
      "clf = BaggingClassifier()\n",
      "\n",
      "# TODO: Create the parameters list you wish to tune\n",
      "parameters = {'n_estimators':range(10,121,30), 'max_features': range(10,100,20)}\n",
      "\n",
      "# TODO: Make an fbeta_score scoring object\n",
      "scorer = make_scorer(fbeta_score, beta=0.5)\n",
      "\n",
      "# TODO: Perform grid search on the classifier using 'scorer' as the scoring method\n",
      "grid_obj = GridSearchCV(clf, param_grid= parameters, scoring=scorer)\n",
      "\n",
      "# TODO: Fit the grid search object to the training data and find the optimal parameters\n",
      "grid_fit = grid_obj.fit(X_train, y_train.astype(int))\n",
      "\n",
      "# Get the estimator\n",
      "best_clf = grid_fit.best_estimator_\n",
      "\n",
      "# Make predictions using the unoptimized and model\n",
      "predictions = (clf.fit(X_train, y_train.astype(int))).predict(X_test)\n",
      "best_predictions = best_clf.predict(X_test)\n",
      "\n",
      "# Report the before-and-afterscores\n",
      "print \"Unoptimized model\\n------\"\n",
      "print \"Accuracy score on testing data: {:.4f}\".format(accuracy_score(y_test.astype(int), predictions))\n",
      "print \"F-score on testing data: {:.4f}\".format(fbeta_score(y_test.astype(int), predictions, beta = 0.5))\n",
      "print \"\\nOptimized Model\\n------\"\n",
      "print \"Final accuracy score on the testing data: {:.4f}\".format(accuracy_score(y_test.astype(int), best_predictions))\n",
      "print \"Final F-score on the testing data: {:.4f}\".format(fbeta_score(y_test.astype(int), best_predictions, beta = 0.5))"
     ],
     "language": "python",
     "metadata": {},
     "outputs": [
      {
       "output_type": "stream",
       "stream": "stdout",
       "text": [
        "Unoptimized model\n",
        "------\n",
        "Accuracy score on testing data: 0.8428\n",
        "F-score on testing data: 0.6826\n",
        "\n",
        "Optimized Model\n",
        "------\n",
        "Final accuracy score on the testing data: 0.8588\n",
        "Final F-score on the testing data: 0.7281\n"
       ]
      }
     ],
     "prompt_number": 121
    },
    {
     "cell_type": "markdown",
     "metadata": {},
     "source": [
      "### Question 5 - Final Model Evaluation\n",
      "_What is your optimized model's accuracy and F-score on the testing data? Are these scores better or worse than the unoptimized model? How do the results from your optimized model compare to the naive predictor benchmarks you found earlier in **Question 1**?_  \n",
      "**Note:** Fill in the table below with your results, and then provide discussion in the **Answer** box."
     ]
    },
    {
     "cell_type": "markdown",
     "metadata": {},
     "source": [
      "#### Results:\n",
      "\n",
      "|     Metric     | Benchmark Predictor | Unoptimized Model | Optimized Model |\n",
      "| :------------: | :-----------------: | :---------------: | :-------------: | \n",
      "| Accuracy Score |    0.2479           |     0.8428        |   0.8588        |\n",
      "| F-score        |    0.6223           |     0.6826        |   0.7281        |\n"
     ]
    },
    {
     "cell_type": "markdown",
     "metadata": {},
     "source": [
      "**Answer: **\n",
      "Yes, Accuracy and F-scores are the highest for our Optimised model. These scores are the worst for our Naive predictor benchmarks. Overall both Accuracy and F-Score have improved for the optimisied model. It is kind of expected as the optimal model should reflects best parameter values."
     ]
    },
    {
     "cell_type": "markdown",
     "metadata": {},
     "source": [
      "----\n",
      "## Feature Importance\n",
      "\n",
      "An important task when performing supervised learning on a dataset like the census data we study here is determining which features provide the most predictive power. By focusing on the relationship between only a few crucial features and the target label we simplify our understanding of the phenomenon, which is most always a useful thing to do. In the case of this project, that means we wish to identify a small number of features that most strongly predict whether an individual makes at most or more than \\$50,000.\n",
      "\n",
      "Choose a scikit-learn classifier (e.g., adaboost, random forests) that has a `feature_importance_` attribute, which is a function that ranks the importance of features according to the chosen classifier.  In the next python cell fit this classifier to training set and use this attribute to determine the top 5 most important features for the census dataset."
     ]
    },
    {
     "cell_type": "markdown",
     "metadata": {},
     "source": [
      "### Question 6 - Feature Relevance Observation\n",
      "When **Exploring the Data**, it was shown there are thirteen available features for each individual on record in the census data.  \n",
      "_Of these thirteen records, which five features do you believe to be most important for prediction, and in what order would you rank them and why?_"
     ]
    },
    {
     "cell_type": "code",
     "collapsed": false,
     "input": [
      "#Compute correlation between features and income variables\n",
      "from scipy.stats import spearmanr\n",
      "import operator\n",
      "print features_raw.columns\n",
      "\n",
      "correlation = {}\n",
      "for col in features_raw.columns:\n",
      "    correlation[col] = spearmanr(income_raw, features_raw[col])\n",
      "sorted_x = sorted(correlation.items(), key=operator.itemgetter(1), reverse=True)\n",
      "\n",
      "print sorted_x"
     ],
     "language": "python",
     "metadata": {},
     "outputs": [
      {
       "output_type": "stream",
       "stream": "stdout",
       "text": [
        "Index([u'age', u'workclass', u'education_level', u'education-num',\n",
        "       u'marital-status', u'occupation', u'relationship', u'race', u'sex',\n",
        "       u'capital-gain', u'capital-loss', u'hours-per-week', u'native-country'],\n",
        "      dtype='object')\n",
        "[('education-num', SpearmanrResult(correlation=0.32853320045969281, pvalue=0.0)), ('capital-gain', SpearmanrResult(correlation=0.27710381762785474, pvalue=0.0)), ('age', SpearmanrResult(correlation=0.27218498490165238, pvalue=0.0)), ('hours-per-week', SpearmanrResult(correlation=0.26579840468957111, pvalue=0.0)), ('sex', SpearmanrResult(correlation=0.2157604578656647, pvalue=0.0)), ('capital-loss', SpearmanrResult(correlation=0.13920025243760453, pvalue=1.9722801549417299e-194)), ('race', SpearmanrResult(correlation=0.080547220176069342, pvalue=5.6542642254825603e-66)), ('occupation', SpearmanrResult(correlation=0.055170096346982195, pvalue=7.8742609023309612e-32)), ('native-country', SpearmanrResult(correlation=0.033613695199811444, pvalue=8.6821340856568419e-13)), ('education_level', SpearmanrResult(correlation=0.032603090957440954, pvalue=4.0665044673533827e-12)), ('workclass', SpearmanrResult(correlation=0.026433090928783043, pvalue=1.8881770291263551e-08)), ('marital-status', SpearmanrResult(correlation=-0.22889491085548297, pvalue=0.0)), ('relationship', SpearmanrResult(correlation=-0.33559581341677031, pvalue=0.0))]"
       ]
      },
      {
       "output_type": "stream",
       "stream": "stdout",
       "text": [
        "\n"
       ]
      }
     ],
     "prompt_number": 145
    },
    {
     "cell_type": "markdown",
     "metadata": {},
     "source": [
      "**Answer:**\n",
      "I would like to see the correlation between income and each of the other 12 variables(features) and sort them based on the correlation value in a descending order. Then I want to choose the first 5 values by magnitude.\n",
      "\n",
      "Based on my hypothesis, the order of important features are\n",
      "**'relationship':-0.335, \n",
      "'education-num':0.328, \n",
      "'capital-gain':0.277, \n",
      "'age':0.272, \n",
      "'hours-per-week':0.265**\n"
     ]
    },
    {
     "cell_type": "markdown",
     "metadata": {},
     "source": [
      "### Implementation - Extracting Feature Importance\n",
      "Choose a `scikit-learn` supervised learning algorithm that has a `feature_importance_` attribute availble for it. This attribute is a function that ranks the importance of each feature when making predictions based on the chosen algorithm.\n",
      "\n",
      "In the code cell below, you will need to implement the following:\n",
      " - Import a supervised learning model from sklearn if it is different from the three used earlier.\n",
      " - Train the supervised model on the entire training set.\n",
      " - Extract the feature importances using `'.feature_importances_'`."
     ]
    },
    {
     "cell_type": "code",
     "collapsed": false,
     "input": [
      "# TODO: Import a supervised learning model that has 'feature_importances_'\n",
      "from sklearn.ensemble import GradientBoostingRegressor\n",
      "\n",
      "# TODO: Train the supervised model on the training set \n",
      "model = GradientBoostingRegressor().fit(X_train, y_train.astype(int))\n",
      "\n",
      "# TODO: Extract the feature importances\n",
      "importances = model.feature_importances_\n",
      "# Plot\n",
      "vs.feature_plot(importances, X_train, y_train)"
     ],
     "language": "python",
     "metadata": {},
     "outputs": [
      {
       "metadata": {},
       "output_type": "display_data",
       "png": "[encoded data removed]",
       "text": [
        "<matplotlib.figure.Figure at 0x7fe45a5a2f50>"
       ]
      }
     ],
     "prompt_number": 152
    },
    {
     "cell_type": "markdown",
     "metadata": {},
     "source": [
      "### Question 7 - Extracting Feature Importance\n",
      "\n",
      "Observe the visualization created above which displays the five most relevant features for predicting if an individual makes at most or above \\$50,000.  \n",
      "_How do these five features compare to the five features you discussed in **Question 6**? If you were close to the same answer, how does this visualization confirm your thoughts? If you were not close, why do you think these features are more relevant?_"
     ]
    },
    {
     "cell_type": "markdown",
     "metadata": {},
     "source": [
      "**Answer:**\n",
      "Based on the visualisation the important features are \n",
      "1) marital_status.Married-civ-spouse\n",
      "2) capital-loss\n",
      "3) age\n",
      "4) education-num\n",
      "5) capital-gain.\n",
      "\n",
      "My list was\n",
      "1) relationship\n",
      "2) education-num\n",
      "3) capital-gain\n",
      "4) age\n",
      "5) hours-per-week\n",
      "\n",
      "As we can see, 3 variables matched (**education-num, capital-gain, age**) and 2 variables did not match. Variables that matched show a strong correlation with income.\n",
      "\n",
      "For variables that did not match \"marital-status.Married-civ-spouse\" and \"capital-loss\" I believe the information gain due to splitting based on these variables was high. It could be so that these nodes appear in the middle of the tree so information gain is hard to predict at first glance. Note my method of correlation takes the entire dataset whereas for nodes in the midde take only a fraction of the dataset. Hence the results differ.\n",
      "\n",
      "Besides as I mentioned in ensemble methods strengths: They do not expect features to vary linearly, hence features importance only based on correaltion can not be expected here.\n",
      "\n"
     ]
    },
    {
     "cell_type": "markdown",
     "metadata": {},
     "source": [
      "### Feature Selection\n",
      "How does a model perform if we only use a subset of all the available features in the data? With less features required to train, the expectation is that training and prediction time is much lower \u2014 at the cost of performance metrics. From the visualization above, we see that the top five most important features contribute more than half of the importance of **all** features present in the data. This hints that we can attempt to *reduce the feature space* and simplify the information required for the model to learn. The code cell below will use the same optimized model you found earlier, and train it on the same training set *with only the top five important features*. "
     ]
    },
    {
     "cell_type": "code",
     "collapsed": false,
     "input": [
      "# Import functionality for cloning a model\n",
      "from sklearn.base import clone\n",
      "\n",
      "# Reduce the feature space\n",
      "X_train_reduced = X_train[X_train.columns.values[(np.argsort(importances)[::-1])[:5]]]\n",
      "X_test_reduced = X_test[X_test.columns.values[(np.argsort(importances)[::-1])[:5]]]\n",
      "\n",
      "# TODO: Create the parameters list you wish to tune\n",
      "parameters = {'n_estimators':range(10,121,30)}\n",
      "\n",
      "# TODO: Make an fbeta_score scoring object\n",
      "scorer = make_scorer(fbeta_score, beta=0.5)\n",
      "\n",
      "# TODO: Perform grid search on the classifier using 'scorer' as the scoring method\n",
      "grid_obj = GridSearchCV(clf, param_grid= parameters, scoring=scorer)\n",
      "\n",
      "# TODO: Fit the grid search object to the training data and find the optimal parameters\n",
      "grid_fit = grid_obj.fit(X_train, y_train.astype(int))\n",
      "\n",
      "# Get the estimator\n",
      "best_clf = grid_fit.best_estimator_\n",
      "\n",
      "\n",
      "# Train on the \"best\" model found from grid search earlier\n",
      "clf = (clone(best_clf)).fit(X_train_reduced, y_train.astype(int))\n",
      "\n",
      "# Make new predictions\n",
      "reduced_predictions = clf.predict(X_test_reduced)\n",
      "\n",
      "# Report scores from the final model using both versions of data\n",
      "print \"Final Model trained on full data\\n------\"\n",
      "print \"Accuracy on testing data: {:.4f}\".format(accuracy_score(y_test.astype(int), best_predictions))\n",
      "print \"F-score on testing data: {:.4f}\".format(fbeta_score(y_test.astype(int), best_predictions, beta = 0.5))\n",
      "print \"\\nFinal Model trained on reduced data\\n------\"\n",
      "print \"Accuracy on testing data: {:.4f}\".format(accuracy_score(y_test.astype(int), reduced_predictions))\n",
      "print \"F-score on testing data: {:.4f}\".format(fbeta_score(y_test.astype(int), reduced_predictions, beta = 0.5))"
     ],
     "language": "python",
     "metadata": {},
     "outputs": [
      {
       "output_type": "stream",
       "stream": "stdout",
       "text": [
        "Final Model trained on full data\n",
        "------\n",
        "Accuracy on testing data: 0.8588\n",
        "F-score on testing data: 0.7281\n",
        "\n",
        "Final Model trained on reduced data\n",
        "------\n",
        "Accuracy on testing data: 0.8540\n",
        "F-score on testing data: 0.7135\n"
       ]
      }
     ],
     "prompt_number": 128
    },
    {
     "cell_type": "markdown",
     "metadata": {},
     "source": [
      "### Question 8 - Effects of Feature Selection\n",
      "*How does the final model's F-score and accuracy score on the reduced data using only five features compare to those same scores when all features are used?*  \n",
      "*If training time was a factor, would you consider using the reduced data as your training set?*"
     ]
    },
    {
     "cell_type": "markdown",
     "metadata": {},
     "source": [
      "**Answer:**\n",
      "Both model's accuracy and F-score are very close telling us model with reduced features perform as well as the model with full features.\n",
      "Definately if training time was a factor I would choose the reduced data as my training set. However for this example the training time is marginal hence I will choose the model with full features."
     ]
    },
    {
     "cell_type": "markdown",
     "metadata": {},
     "source": [
      "> **Note**: Once you have completed all of the code implementations and successfully answered each question above, you may finalize your work by exporting the iPython Notebook as an HTML document. You can do this by using the menu above and navigating to  \n",
      "**File -> Download as -> HTML (.html)**. Include the finished document along with this notebook as your submission."
     ]
    }
   ],
   "metadata": {}
  }
 ]
}